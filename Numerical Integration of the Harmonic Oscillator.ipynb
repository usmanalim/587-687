{
 "cells": [
  {
   "cell_type": "markdown",
   "metadata": {},
   "source": [
    "# Harmonic Oscillator\n",
    "## Comparison of Numerical Integration Methods\n",
    "\n",
    "### Usman Alim\n",
    "### CPSC 587/687: Winter 2020\n"
   ]
  },
  {
   "cell_type": "code",
   "execution_count": 22,
   "metadata": {},
   "outputs": [],
   "source": [
    "import ipywidgets as widgets\n",
    "from ipywidgets import interact\n",
    "import plotly.graph_objs as go\n",
    "\n",
    "import numpy as np"
   ]
  },
  {
   "cell_type": "code",
   "execution_count": 23,
   "metadata": {},
   "outputs": [],
   "source": [
    "# Parameters that will stay fixed. For this demo, this includes\n",
    "# the initial state, the amplitude, and the time interval.\n",
    "# We are assuming that the particle has unit mass.\n",
    "\n",
    "# amplitude\n",
    "A = 1\n",
    "\n",
    "# Duration\n",
    "T = 10.0\n",
    "\n",
    "# Particle starts with amplitude A at rest.\n",
    "s0 = np.array([A, 0]) "
   ]
  },
  {
   "cell_type": "code",
   "execution_count": 41,
   "metadata": {},
   "outputs": [],
   "source": [
    "# Function that returns the analytic solution\n",
    "# Input time is assumed to be a numpy array\n",
    "def analyticSolution(k, d, t):\n",
    "    w = np.sqrt(k)\n",
    "    z = d / (2*np.sqrt(k))\n",
    "    return A * np.exp(-z*w*t) * np.cos(w*np.sqrt(1-z*z)*t)"
   ]
  },
  {
   "cell_type": "markdown",
   "metadata": {},
   "source": [
    "## Various integrators\n",
    "### Each definition below implements one time-step"
   ]
  },
  {
   "cell_type": "code",
   "execution_count": 47,
   "metadata": {},
   "outputs": [],
   "source": [
    "# One step of forward Euler\n",
    "def forward_euler_step(h=0.1, k=1, d=0):\n",
    "    s = s0\n",
    "    M = np.array([[1, h],[-h*k, 1-d*h]])\n",
    "    while True:\n",
    "        yield s\n",
    "        s = M.dot(s)\n",
    "        \n",
    "# One step of semi-implicit Euler\n",
    "def si_euler_step(h=0.1, k=1, d=0):\n",
    "    s = s0\n",
    "    M = np.array([[1-k*h*h, h*(1-d*h)],[-k*h, 1-d*h]])\n",
    "    while True:\n",
    "        yield s\n",
    "        s = M.dot(s)    \n",
    "        \n",
    "# One step of RK2\n",
    "def RK2_step(h=0.1, k=1, d=0):\n",
    "    s = s0\n",
    "    M = np.array([[0, 1],[-k, -d]])\n",
    "    while True:\n",
    "        yield s\n",
    "        k1 = M.dot(s)\n",
    "        k2 = M.dot(s + 0.5*h*k1)\n",
    "        s = s + h*k2\n",
    "\n",
    "# One step of RK4\n",
    "def RK4_step(h=0.1, k=1, d=0):\n",
    "    s=s0\n",
    "    M = np.array([[0, 1],[-k, -d]])\n",
    "    while True:\n",
    "        yield s\n",
    "        k1 = M.dot(s)\n",
    "        k2 = M.dot(s + 0.5*h*k1)\n",
    "        k3 = M.dot(s + 0.5*h*k2)\n",
    "        k4 = M.dot(s+ h*k3)\n",
    "        s = s + (k1 + 2*k2 + 2*k3 + k4)*h/6 "
   ]
  },
  {
   "cell_type": "code",
   "execution_count": 28,
   "metadata": {},
   "outputs": [],
   "source": [
    "# Compute the solution using a specified method\n",
    "def nsol(h,k,d, method):\n",
    "    feg = method(h, k, d)\n",
    "    N = int(T / h)\n",
    "    return np.array([next(feg) for i in range(N)])"
   ]
  },
  {
   "cell_type": "markdown",
   "metadata": {},
   "source": [
    "## Widget to Compare Forward Euler and Semi-Implicit Euler"
   ]
  },
  {
   "cell_type": "code",
   "execution_count": 57,
   "metadata": {},
   "outputs": [
    {
     "data": {
      "application/vnd.jupyter.widget-view+json": {
       "model_id": "ad9fd035cb9c4182b2cc9e167bdcedc1",
       "version_major": 2,
       "version_minor": 0
      },
      "text/plain": [
       "interactive(children=(BoundedFloatText(value=0.1, description='step:', max=1.0, min=0.001, step=0.01), Bounded…"
      ]
     },
     "metadata": {},
     "output_type": "display_data"
    },
    {
     "data": {
      "application/vnd.jupyter.widget-view+json": {
       "model_id": "d1608413467c4c788b3d6f68a406c129",
       "version_major": 2,
       "version_minor": 0
      },
      "text/plain": [
       "FigureWidget({\n",
       "    'data': [{'line': {'color': 'rgba(0, 0, 0, 1)'},\n",
       "              'name': 'Truth (no damping)'…"
      ]
     },
     "metadata": {},
     "output_type": "display_data"
    }
   ],
   "source": [
    "#Starting parameters\n",
    "h = 0.1\n",
    "k = 2\n",
    "d = 0\n",
    "\n",
    "t = np.linspace(0,T,int(T/h))\n",
    "scatt_truth_ND = go.Scatter(x=t, y=analyticSolution(k,0,t), \n",
    "                  line_color='rgba(0, 0, 0, 1)', name='Truth (no damping)')\n",
    "scatt_truth_D = go.Scatter(x=t, y=analyticSolution(k,d,t), \n",
    "                  line_color='rgba(100, 100, 100, 1)', name='Truth (with damping)')\n",
    "\n",
    "scatt_FE = go.Scatter(x=t, y=nsol(h, k, d, forward_euler_step)[:,0], \n",
    "                      line_color='rgba(31,120,180,0.9)',\n",
    "                      mode='lines+markers', marker_size=4,\n",
    "                      name='Forward Euler')\n",
    "scatt_SIE = go.Scatter(x=t, y=nsol(h, k, d, si_euler_step)[:,0], \n",
    "                      line_color='rgba(51,160,144,0.9)',\n",
    "                      mode='lines+markers', marker_size=4,\n",
    "                      name='Semi-implicit Euler')\n",
    "\n",
    "\n",
    "\n",
    "# Note the use of FigureWidget rather than Figure\n",
    "figE = go.FigureWidget()\n",
    "figE.add_trace(scatt_truth_ND)\n",
    "figE.add_trace(scatt_truth_D)\n",
    "figE.add_trace(scatt_FE)\n",
    "figE.add_trace(scatt_SIE)\n",
    "\n",
    "\n",
    "figE.update_layout(\n",
    "    title=\"Euler vs. Semi-implicit Euler\",\n",
    "    xaxis_title=\"t\",\n",
    "    yaxis_title=\"x\"\n",
    ")\n",
    "\n",
    "\n",
    "@interact(h=widgets.BoundedFloatText(\n",
    "    value=h,description='step:',disabled=False,min=0.001,max=1,step=0.01),\n",
    "          k=widgets.BoundedFloatText(\n",
    "              value=k,description='k:',disabled=False, min=1, max=10, \n",
    "              step=1),\n",
    "          d=widgets.BoundedFloatText(\n",
    "    value=d,description='d:',disabled=False,min=0,max=10,step=0.1)\n",
    "         )\n",
    "def updateFE(h=h, k=k, d=d):\n",
    "    figE.update_traces(x=t,y=analyticSolution(k,0,t),\n",
    "                       selector=dict(type=\"scatter\", name='Truth (no damping)'))\n",
    "    figE.update_traces(x=t,y=analyticSolution(k,d,t),\n",
    "                       selector=dict(type=\"scatter\", name='Truth (with damping)'))\n",
    "    figE.update_traces(x=np.linspace(0,T,int(T/h)),\n",
    "                        y=nsol(h, k, d, forward_euler_step)[:,0],\n",
    "      selector=dict(type=\"scatter\", name=\"Forward Euler\"))\n",
    "    figE.update_traces(x=np.linspace(0,T,int(T/h)),\n",
    "                        y=nsol(h, k, d, si_euler_step)[:,0],\n",
    "      selector=dict(type=\"scatter\", name=\"Semi-implicit Euler\"))\n",
    "    figE.update_yaxes(range=[-2, 2])\n",
    "                       \n",
    "figE"
   ]
  },
  {
   "cell_type": "markdown",
   "metadata": {},
   "source": [
    "## Widget to Compare RK2 and RK4"
   ]
  },
  {
   "cell_type": "code",
   "execution_count": 58,
   "metadata": {},
   "outputs": [
    {
     "data": {
      "application/vnd.jupyter.widget-view+json": {
       "model_id": "caace09c708947259f6f26e27f890aa2",
       "version_major": 2,
       "version_minor": 0
      },
      "text/plain": [
       "interactive(children=(BoundedFloatText(value=0.1, description='step:', max=1.0, min=0.001, step=0.01), Bounded…"
      ]
     },
     "metadata": {},
     "output_type": "display_data"
    },
    {
     "data": {
      "application/vnd.jupyter.widget-view+json": {
       "model_id": "6e6f46b5c35a47f9a2cacc92e2c7d9a1",
       "version_major": 2,
       "version_minor": 0
      },
      "text/plain": [
       "FigureWidget({\n",
       "    'data': [{'line': {'color': 'rgba(0, 0, 0, 1)'},\n",
       "              'name': 'Truth',\n",
       "           …"
      ]
     },
     "metadata": {},
     "output_type": "display_data"
    }
   ],
   "source": [
    "#Starting parameters\n",
    "h = 0.1\n",
    "k = 2\n",
    "d = 0\n",
    "\n",
    "t = np.linspace(0,T,int(T/h))\n",
    "scatt_truth = go.Scatter(x=t, y=analyticSolution(k,d,t), \n",
    "                  line_color='rgba(0, 0, 0, 1)', name='Truth')\n",
    "\n",
    "scatt_RK2 = go.Scatter(x=t, y=nsol(h, k, d, RK2_step)[:,0], \n",
    "                      line_color='rgba(217,95,2,0.9)',\n",
    "                      mode='lines+markers', marker_size=4,\n",
    "                      name='RK2')\n",
    "scatt_RK4 = go.Scatter(x=t, y=nsol(h, k, d, RK4_step)[:,0], \n",
    "                      line_color='rgba(27,158,119,0.9)',\n",
    "                      mode='lines+markers', marker_size=4,\n",
    "                      name='RK4')\n",
    "\n",
    "# Note the use of FigureWidget rather than Figure\n",
    "figRK = go.FigureWidget()\n",
    "figRK.add_trace(scatt_truth)\n",
    "figRK.add_trace(scatt_RK2)\n",
    "figRK.add_trace(scatt_RK4)\n",
    "\n",
    "figRK.update_layout(\n",
    "    title=\"RK2 vs. RK4\",\n",
    "    xaxis_title=\"t\",\n",
    "    yaxis_title=\"x\"\n",
    ")\n",
    "\n",
    "\n",
    "@interact(h=widgets.BoundedFloatText(\n",
    "    value=h,description='step:',disabled=False,min=0.001,max=1,step=0.01),\n",
    "          k=widgets.BoundedFloatText(\n",
    "              value=k,description='k:',disabled=False, min=1, max=10, \n",
    "              step=1),\n",
    "          d=widgets.BoundedFloatText(\n",
    "    value=d,description='d:',disabled=False,min=0,max=10,step=0.1)\n",
    "         )\n",
    "def updateRK(h=h, k=k, d=d):\n",
    "    figRK.update_traces(x=t,y=analyticSolution(k,d,t),\n",
    "                       selector=dict(type=\"scatter\", name='Truth'))\n",
    "    figRK.update_traces(x=np.linspace(0,T,int(T/h)),\n",
    "                        y=nsol(h, k, d, RK2_step)[:,0],\n",
    "      selector=dict(type=\"scatter\", name=\"RK2\"))\n",
    "    figRK.update_traces(x=np.linspace(0,T,int(T/h)),\n",
    "                        y=nsol(h, k, d, RK4_step)[:,0],\n",
    "      selector=dict(type=\"scatter\", name=\"RK4\"))\n",
    "    figRK.update_yaxes(range=[-2, 2])\n",
    "                       \n",
    "figRK"
   ]
  }
 ],
 "metadata": {
  "kernelspec": {
   "display_name": "Python 3",
   "language": "python",
   "name": "python3"
  },
  "language_info": {
   "codemirror_mode": {
    "name": "ipython",
    "version": 3
   },
   "file_extension": ".py",
   "mimetype": "text/x-python",
   "name": "python",
   "nbconvert_exporter": "python",
   "pygments_lexer": "ipython3",
   "version": "3.7.3"
  }
 },
 "nbformat": 4,
 "nbformat_minor": 2
}
